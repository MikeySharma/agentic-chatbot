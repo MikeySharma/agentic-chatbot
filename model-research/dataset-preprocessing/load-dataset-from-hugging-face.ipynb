{
 "cells": [
  {
   "cell_type": "markdown",
   "id": "1fe12ba8",
   "metadata": {},
   "source": [
    "## Load dataset from hugging face and save it to the csv file."
   ]
  },
  {
   "cell_type": "code",
   "execution_count": 3,
   "id": "b5f35015",
   "metadata": {},
   "outputs": [],
   "source": [
    "import pandas as pd"
   ]
  },
  {
   "cell_type": "code",
   "execution_count": 5,
   "id": "c5707831",
   "metadata": {},
   "outputs": [],
   "source": [
    "splits = {'train': 'sent_train.csv', 'validation': 'sent_valid.csv'}\n",
    "df = pd.read_csv(\"hf://datasets/zeroshot/twitter-financial-news-sentiment/\" + splits[\"train\"])"
   ]
  },
  {
   "cell_type": "code",
   "execution_count": null,
   "id": "84ccda98",
   "metadata": {},
   "outputs": [],
   "source": [
    "df.to_csv('../model-datasets/sentiment-data-huggingface.csv', index=False)"
   ]
  }
 ],
 "metadata": {
  "kernelspec": {
   "display_name": "python11",
   "language": "python",
   "name": "python3"
  },
  "language_info": {
   "codemirror_mode": {
    "name": "ipython",
    "version": 3
   },
   "file_extension": ".py",
   "mimetype": "text/x-python",
   "name": "python",
   "nbconvert_exporter": "python",
   "pygments_lexer": "ipython3",
   "version": "3.11.13"
  }
 },
 "nbformat": 4,
 "nbformat_minor": 5
}
