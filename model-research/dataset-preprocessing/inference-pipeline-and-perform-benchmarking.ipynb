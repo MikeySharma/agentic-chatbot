{
 "cells": [
  {
   "cell_type": "markdown",
   "id": "88307c71",
   "metadata": {},
   "source": [
    "## Create a lightweight inference class & perform Benchmarking"
   ]
  },
  {
   "cell_type": "code",
   "execution_count": 6,
   "id": "29ad8ab2",
   "metadata": {},
   "outputs": [],
   "source": [
    "\n",
    "import onnxruntime as ort\n",
    "from transformers import AutoTokenizer\n",
    "import numpy as np\n",
    "import torch\n",
    "import re\n",
    "import time\n",
    "from tqdm import tqdm\n",
    "import pandas as pd"
   ]
  },
  {
   "cell_type": "code",
   "execution_count": 2,
   "id": "f4c93782",
   "metadata": {},
   "outputs": [],
   "source": [
    "# Preprocessing function\n",
    "def preprocess_text(text):\n",
    "    text = str(text).lower()  # Convert to lowercase\n",
    "    text = text.replace('$', '')  # Remove dollar signs (tickers)\n",
    "    # Remove URLs\n",
    "    text = re.sub(r'https?://\\S+|www\\.\\S+', '', text)\n",
    "    # Remove special characters except basic punctuation\n",
    "    text = re.sub(r'[^\\w\\s.,!?]', '', text)\n",
    "    return text.strip()\n"
   ]
  },
  {
   "cell_type": "code",
   "execution_count": 3,
   "id": "350c4be2",
   "metadata": {},
   "outputs": [],
   "source": [
    "class SentimentAnalyzer:\n",
    "    def __init__(self, model_path=\"./tinybert-sentiment-onnx\"):\n",
    "        self.session = ort.InferenceSession(f\"{model_path}/model.onnx\")\n",
    "        self.tokenizer = AutoTokenizer.from_pretrained(model_path)\n",
    "        self.labels = [\"negative\", \"neutral\", \"positive\"]  # Hard-coded labels\n",
    "        \n",
    "    def predict(self, text):\n",
    "        # Preprocess\n",
    "        text = preprocess_text(text)\n",
    "        \n",
    "        # Tokenize\n",
    "        inputs = self.tokenizer(\n",
    "            text,\n",
    "            padding=\"max_length\",\n",
    "            truncation=True,\n",
    "            max_length=128,\n",
    "            return_tensors=\"np\",\n",
    "            return_token_type_ids=True\n",
    "        )\n",
    "        \n",
    "        # Run inference\n",
    "        outputs = self.session.run(\n",
    "            None,\n",
    "            {\n",
    "                \"input_ids\": inputs[\"input_ids\"].astype(np.int64),\n",
    "                \"attention_mask\": inputs[\"attention_mask\"].astype(np.int64),\n",
    "                \"token_type_ids\": inputs[\"token_type_ids\"].astype(np.int64)\n",
    "            }\n",
    "        )\n",
    "        \n",
    "        # Get predictions\n",
    "        logits = outputs[0]\n",
    "        probabilities = torch.nn.functional.softmax(torch.from_numpy(logits), dim=-1)\n",
    "        predicted_class = np.argmax(logits, axis=-1)[0]\n",
    "        \n",
    "        return {\n",
    "            \"sentiment\": self.labels[predicted_class],\n",
    "            \"confidence\": float(probabilities[0][predicted_class]),\n",
    "            \"probabilities\": {\n",
    "                label: float(prob)\n",
    "                for label, prob in zip(self.labels, probabilities[0])\n",
    "            }\n",
    "        }\n"
   ]
  },
  {
   "cell_type": "code",
   "execution_count": 4,
   "id": "369f3455",
   "metadata": {},
   "outputs": [
    {
     "name": "stdout",
     "output_type": "stream",
     "text": [
      "{'sentiment': 'negative', 'confidence': 0.6044331192970276, 'probabilities': {'negative': 0.6044331192970276, 'neutral': 0.045562803745269775, 'positive': 0.35000404715538025}}\n"
     ]
    }
   ],
   "source": [
    "# Example usage\n",
    "analyzer = SentimentAnalyzer()\n",
    "result = analyzer.predict(\"$BYND - JPMorgan reels in expectations on Beyond Meat\")\n",
    "print(result)"
   ]
  },
  {
   "cell_type": "markdown",
   "id": "87b3fae0",
   "metadata": {},
   "source": [
    "## Performance Benchmarking"
   ]
  },
  {
   "cell_type": "code",
   "execution_count": 7,
   "id": "b8e5e17c",
   "metadata": {},
   "outputs": [],
   "source": [
    "def benchmark_model(analyzer, dataset, n_runs=100):\n",
    "    # Warmup\n",
    "    for _ in range(5):\n",
    "        analyzer.predict(dataset[\"text\"].iloc[0])\n",
    "    \n",
    "    # Latency test\n",
    "    latencies = []\n",
    "    for i in tqdm(range(n_runs)):\n",
    "        text = dataset[\"text\"].iloc[i % len(dataset)]\n",
    "        start = time.perf_counter()\n",
    "        analyzer.predict(text)\n",
    "        end = time.perf_counter()\n",
    "        latencies.append((end - start) * 1000)  # in ms\n",
    "    \n",
    "    avg_latency = np.mean(latencies)\n",
    "    p95_latency = np.percentile(latencies, 95)\n",
    "    \n",
    "    print(f\"Average latency: {avg_latency:.2f}ms\")\n",
    "    print(f\"95th percentile latency: {p95_latency:.2f}ms\")\n",
    "    return latencies\n"
   ]
  },
  {
   "cell_type": "code",
   "execution_count": 9,
   "id": "54a83ddc",
   "metadata": {},
   "outputs": [],
   "source": [
    "test_df = pd.read_csv('../processed-datasets/test.csv')"
   ]
  },
  {
   "cell_type": "code",
   "execution_count": 11,
   "id": "be35d6cc",
   "metadata": {},
   "outputs": [
    {
     "data": {
      "text/plain": [
       "(5834, 2)"
      ]
     },
     "execution_count": 11,
     "metadata": {},
     "output_type": "execute_result"
    }
   ],
   "source": [
    "test_df.shape"
   ]
  },
  {
   "cell_type": "code",
   "execution_count": 12,
   "id": "12d3499d",
   "metadata": {},
   "outputs": [
    {
     "name": "stdout",
     "output_type": "stream",
     "text": [
      "Benchmarking ONNX model...\n"
     ]
    },
    {
     "name": "stderr",
     "output_type": "stream",
     "text": [
      "100%|██████████| 100/100 [00:00<00:00, 234.49it/s]"
     ]
    },
    {
     "name": "stdout",
     "output_type": "stream",
     "text": [
      "Average latency: 4.18ms\n",
      "95th percentile latency: 5.80ms\n"
     ]
    },
    {
     "name": "stderr",
     "output_type": "stream",
     "text": [
      "\n"
     ]
    }
   ],
   "source": [
    "# Run benchmark\n",
    "print(\"Benchmarking ONNX model...\")\n",
    "latencies = benchmark_model(analyzer, test_df)"
   ]
  },
  {
   "cell_type": "code",
   "execution_count": 13,
   "id": "c04ace12",
   "metadata": {},
   "outputs": [
    {
     "name": "stdout",
     "output_type": "stream",
     "text": [
      "Model size: 54.84MB\n"
     ]
    }
   ],
   "source": [
    "# Check model size\n",
    "import os\n",
    "model_size = os.path.getsize(\"./tinybert-sentiment-onnx/model.onnx\") / (1024 * 1024)\n",
    "print(f\"Model size: {model_size:.2f}MB\")"
   ]
  }
 ],
 "metadata": {
  "kernelspec": {
   "display_name": "python11",
   "language": "python",
   "name": "python3"
  },
  "language_info": {
   "codemirror_mode": {
    "name": "ipython",
    "version": 3
   },
   "file_extension": ".py",
   "mimetype": "text/x-python",
   "name": "python",
   "nbconvert_exporter": "python",
   "pygments_lexer": "ipython3",
   "version": "3.11.13"
  }
 },
 "nbformat": 4,
 "nbformat_minor": 5
}
