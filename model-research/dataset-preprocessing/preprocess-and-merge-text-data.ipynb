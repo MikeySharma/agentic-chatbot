{
 "cells": [
  {
   "cell_type": "code",
   "execution_count": 1,
   "id": "eafe52df",
   "metadata": {},
   "outputs": [],
   "source": [
    "import pandas as pd"
   ]
  },
  {
   "cell_type": "code",
   "execution_count": 27,
   "id": "be6584f0",
   "metadata": {},
   "outputs": [],
   "source": [
    "with open('../model-datasets/Sentences_50Agree.txt', 'r', encoding='latin1') as f:\n",
    "    text_data_1 = f.readlines()\n",
    "with open('../model-datasets/Sentences_66Agree.txt', 'r', encoding='latin1') as f:\n",
    "    text_data_2 = f.readlines()\n",
    "with open('../model-datasets/Sentences_75Agree.txt', 'r', encoding='latin1') as f:\n",
    "    text_data_3 = f.readlines()\n",
    "with open('../model-datasets/Sentences_AllAgree.txt', 'r', encoding='latin1') as f:\n",
    "    text_data_4 = f.readlines()\n"
   ]
  },
  {
   "cell_type": "code",
   "execution_count": 23,
   "id": "70721dca",
   "metadata": {},
   "outputs": [],
   "source": [
    "\n",
    "def parse_labeled_text_lines(text_lines, delimiter='@'):\n",
    "    \"\"\"\n",
    "    Parses a list of text lines where each line may end with a sentiment label\n",
    "    separated by a delimiter (default '@').\n",
    "\n",
    "    Parameters:\n",
    "        text_lines (list of str): Raw lines from the text file.\n",
    "        delimiter (str): Character separating text from the label.\n",
    "\n",
    "    Returns:\n",
    "        pd.DataFrame: A DataFrame with 'text' and 'sentiment' columns.\n",
    "    \"\"\"\n",
    "    data = []\n",
    "\n",
    "    for line in text_lines:\n",
    "        line = line.strip()\n",
    "        if delimiter in line:\n",
    "            text, sentiment = line.rsplit(delimiter, 1)\n",
    "            text = text.strip()\n",
    "            sentiment = sentiment.strip().lower()\n",
    "        else:\n",
    "            text = line\n",
    "            sentiment = None\n",
    "\n",
    "        data.append({'text': text, 'sentiment': sentiment})\n",
    "\n",
    "    return pd.DataFrame(data)\n"
   ]
  },
  {
   "cell_type": "code",
   "execution_count": 28,
   "id": "574e4b28",
   "metadata": {},
   "outputs": [],
   "source": [
    "df_text_1 = parse_labeled_text_lines(text_data_1)\n",
    "df_text_2 = parse_labeled_text_lines(text_data_2)\n",
    "df_text_3 = parse_labeled_text_lines(text_data_3)\n",
    "df_text_4 = parse_labeled_text_lines(text_data_4)\n",
    "\n"
   ]
  },
  {
   "cell_type": "code",
   "execution_count": 29,
   "id": "00120736",
   "metadata": {},
   "outputs": [],
   "source": [
    "df_merged = pd.concat([df_text_1, df_text_2, df_text_3, df_text_4], ignore_index=True)"
   ]
  },
  {
   "cell_type": "code",
   "execution_count": 34,
   "id": "92150148",
   "metadata": {},
   "outputs": [],
   "source": [
    "df_merged.to_csv('../model-datasets/Sentences_merged.csv', index=False)"
   ]
  },
  {
   "cell_type": "code",
   "execution_count": null,
   "id": "e4152e92",
   "metadata": {},
   "outputs": [
    {
     "name": "stdout",
     "output_type": "stream",
     "text": [
      "['neutral' 'negative' 'positive']\n"
     ]
    }
   ],
   "source": [
    "# print(df_merged['sentiment'].unique())"
   ]
  },
  {
   "cell_type": "code",
   "execution_count": null,
   "id": "f256776b",
   "metadata": {},
   "outputs": [],
   "source": [
    "# valid_sentiments = ['neutral', 'positive', 'negative']\n",
    "# df_filtered = df_text[df_text['sentiment'].isin(valid_sentiments)].copy()"
   ]
  }
 ],
 "metadata": {
  "kernelspec": {
   "display_name": "python3.10",
   "language": "python",
   "name": "python3"
  },
  "language_info": {
   "codemirror_mode": {
    "name": "ipython",
    "version": 3
   },
   "file_extension": ".py",
   "mimetype": "text/x-python",
   "name": "python",
   "nbconvert_exporter": "python",
   "pygments_lexer": "ipython3",
   "version": "3.10.16"
  }
 },
 "nbformat": 4,
 "nbformat_minor": 5
}
