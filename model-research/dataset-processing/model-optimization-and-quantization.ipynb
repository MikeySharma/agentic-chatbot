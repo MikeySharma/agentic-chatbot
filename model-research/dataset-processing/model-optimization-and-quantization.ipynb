{
 "cells": [
  {
   "cell_type": "markdown",
   "id": "2262ac76",
   "metadata": {},
   "source": [
    "## Model Optimization And Quantization"
   ]
  },
  {
   "cell_type": "code",
   "execution_count": 5,
   "id": "c74bf791",
   "metadata": {},
   "outputs": [],
   "source": [
    "from optimum.onnxruntime import ORTModelForSequenceClassification\n",
    "from transformers import AutoModelForSequenceClassification\n",
    "import torch"
   ]
  },
  {
   "cell_type": "code",
   "execution_count": 2,
   "id": "201dec43",
   "metadata": {},
   "outputs": [],
   "source": [
    "model_path=\"./tinybert-sentiment\""
   ]
  },
  {
   "cell_type": "code",
   "execution_count": 3,
   "id": "13a7f1ae",
   "metadata": {},
   "outputs": [],
   "source": [
    "# Convert to ONNX format\n",
    "model = ORTModelForSequenceClassification.from_pretrained(\n",
    "    model_path,\n",
    "    export=True,\n",
    "    provider=\"CPUExecutionProvider\"\n",
    ")"
   ]
  },
  {
   "cell_type": "code",
   "execution_count": 4,
   "id": "e8b703b0",
   "metadata": {},
   "outputs": [],
   "source": [
    "# Save ONNX model\n",
    "model.save_pretrained(\"./tinybert-sentiment-onnx\")"
   ]
  },
  {
   "cell_type": "code",
   "execution_count": 6,
   "id": "1d4180a7",
   "metadata": {},
   "outputs": [],
   "source": [
    "# Make sure you're loading a pure PyTorch model, not an ONNX model\n",
    "model = AutoModelForSequenceClassification.from_pretrained(model_path)"
   ]
  },
  {
   "cell_type": "code",
   "execution_count": 7,
   "id": "dd05833c",
   "metadata": {},
   "outputs": [],
   "source": [
    "# Dynamic quantization for PyTorch (alternative)\n",
    "quantized_model = torch.quantization.quantize_dynamic(\n",
    "    model,\n",
    "    {torch.nn.Linear},\n",
    "    dtype=torch.qint8\n",
    ")"
   ]
  },
  {
   "cell_type": "code",
   "execution_count": 8,
   "id": "aabe7f8f",
   "metadata": {},
   "outputs": [],
   "source": [
    "torch.save(quantized_model.state_dict(), \"./tinybert-sentiment-quantized.pt\")"
   ]
  }
 ],
 "metadata": {
  "kernelspec": {
   "display_name": "python11",
   "language": "python",
   "name": "python3"
  },
  "language_info": {
   "codemirror_mode": {
    "name": "ipython",
    "version": 3
   },
   "file_extension": ".py",
   "mimetype": "text/x-python",
   "name": "python",
   "nbconvert_exporter": "python",
   "pygments_lexer": "ipython3",
   "version": "3.11.13"
  }
 },
 "nbformat": 4,
 "nbformat_minor": 5
}
