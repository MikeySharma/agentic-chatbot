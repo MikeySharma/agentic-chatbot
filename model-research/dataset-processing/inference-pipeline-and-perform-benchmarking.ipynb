{
 "cells": [
  {
   "cell_type": "markdown",
   "id": "88307c71",
   "metadata": {},
   "source": [
    "## Create a lightweight inference class & perform Benchmarking"
   ]
  },
  {
   "cell_type": "code",
   "execution_count": 11,
   "id": "29ad8ab2",
   "metadata": {},
   "outputs": [],
   "source": [
    "\n",
    "import onnxruntime as ort\n",
    "from transformers import AutoTokenizer\n",
    "import numpy as np\n",
    "import torch\n",
    "import re\n",
    "import time\n",
    "from tqdm import tqdm\n",
    "import pandas as pd\n",
    "from sklearn.metrics import classification_report, confusion_matrix, f1_score, accuracy_score\n",
    "\n"
   ]
  },
  {
   "cell_type": "code",
   "execution_count": 2,
   "id": "f4c93782",
   "metadata": {},
   "outputs": [],
   "source": [
    "# Preprocessing function\n",
    "def preprocess_text(text):\n",
    "    text = str(text).lower()  # Convert to lowercase\n",
    "    text = text.replace('$', '')  # Remove dollar signs (tickers)\n",
    "    # Remove URLs\n",
    "    text = re.sub(r'https?://\\S+|www\\.\\S+', '', text)\n",
    "    # Remove special characters except basic punctuation\n",
    "    text = re.sub(r'[^\\w\\s.,!?]', '', text)\n",
    "    return text.strip()\n"
   ]
  },
  {
   "cell_type": "code",
   "execution_count": null,
   "id": "350c4be2",
   "metadata": {},
   "outputs": [],
   "source": [
    "class SentimentAnalyzer:\n",
    "    def __init__(self, model_path=\"./tinybert-sentiment-onnx\"):\n",
    "        self.session = ort.InferenceSession(f\"{model_path}/model.onnx\")\n",
    "        self.tokenizer = AutoTokenizer.from_pretrained(model_path)\n",
    "        self.labels = [\"negative\", \"neutral\", \"positive\"]  # Hard-coded labels\n",
    "        \n",
    "    def predict(self, text):\n",
    "        # Preprocess\n",
    "        text = preprocess_text(text)\n",
    "        \n",
    "        # Tokenize\n",
    "        inputs = self.tokenizer(\n",
    "            text,\n",
    "            padding=\"max_length\",\n",
    "            truncation=True,\n",
    "            max_length=128,\n",
    "            return_tensors=\"np\",\n",
    "            return_token_type_ids=True\n",
    "        )\n",
    "        \n",
    "        # Run inference\n",
    "        outputs = self.session.run(\n",
    "            None,\n",
    "            {\n",
    "                \"input_ids\": inputs[\"input_ids\"].astype(np.int64),\n",
    "                \"attention_mask\": inputs[\"attention_mask\"].astype(np.int64),\n",
    "                \"token_type_ids\": inputs[\"token_type_ids\"].astype(np.int64)\n",
    "            }\n",
    "        )\n",
    "        \n",
    "        # Get predictions\n",
    "        logits = outputs[0]\n",
    "        probabilities = torch.nn.functional.softmax(torch.from_numpy(logits), dim=-1)\n",
    "        predicted_class = np.argmax(logits, axis=-1)[0] # type: ignore\n",
    "        \n",
    "        return {\n",
    "            \"sentiment\": self.labels[predicted_class],\n",
    "            \"confidence\": float(probabilities[0][predicted_class]),\n",
    "            \"probabilities\": {\n",
    "                label: float(prob)\n",
    "                for label, prob in zip(self.labels, probabilities[0])\n",
    "            }\n",
    "        }\n"
   ]
  },
  {
   "cell_type": "code",
   "execution_count": 4,
   "id": "369f3455",
   "metadata": {},
   "outputs": [
    {
     "name": "stdout",
     "output_type": "stream",
     "text": [
      "{'sentiment': 'negative', 'confidence': 0.6044331192970276, 'probabilities': {'negative': 0.6044331192970276, 'neutral': 0.045562803745269775, 'positive': 0.35000404715538025}}\n"
     ]
    }
   ],
   "source": [
    "# Example usage\n",
    "analyzer = SentimentAnalyzer()\n",
    "result = analyzer.predict(\"$BYND - JPMorgan reels in expectations on Beyond Meat\")\n",
    "print(result)"
   ]
  },
  {
   "cell_type": "markdown",
   "id": "87b3fae0",
   "metadata": {},
   "source": [
    "## Performance Benchmarking"
   ]
  },
  {
   "cell_type": "code",
   "execution_count": 5,
   "id": "b8e5e17c",
   "metadata": {},
   "outputs": [],
   "source": [
    "def benchmark_model(analyzer, dataset, n_runs=100):\n",
    "    # Warmup\n",
    "    for _ in range(5):\n",
    "        analyzer.predict(dataset[\"text\"].iloc[0])\n",
    "    \n",
    "    # Latency test\n",
    "    latencies = []\n",
    "    for i in tqdm(range(n_runs)):\n",
    "        text = dataset[\"text\"].iloc[i % len(dataset)]\n",
    "        start = time.perf_counter()\n",
    "        analyzer.predict(text)\n",
    "        end = time.perf_counter()\n",
    "        latencies.append((end - start) * 1000)  # in ms\n",
    "    \n",
    "    avg_latency = np.mean(latencies)\n",
    "    p95_latency = np.percentile(latencies, 95)\n",
    "    \n",
    "    print(f\"Average latency: {avg_latency:.2f}ms\")\n",
    "    print(f\"95th percentile latency: {p95_latency:.2f}ms\")\n",
    "    return latencies\n"
   ]
  },
  {
   "cell_type": "code",
   "execution_count": 6,
   "id": "54a83ddc",
   "metadata": {},
   "outputs": [],
   "source": [
    "test_df = pd.read_csv('../processed-datasets/test.csv')"
   ]
  },
  {
   "cell_type": "code",
   "execution_count": 7,
   "id": "be35d6cc",
   "metadata": {},
   "outputs": [
    {
     "data": {
      "text/plain": [
       "(5834, 2)"
      ]
     },
     "execution_count": 7,
     "metadata": {},
     "output_type": "execute_result"
    }
   ],
   "source": [
    "test_df.shape"
   ]
  },
  {
   "cell_type": "code",
   "execution_count": 8,
   "id": "12d3499d",
   "metadata": {},
   "outputs": [
    {
     "name": "stdout",
     "output_type": "stream",
     "text": [
      "Benchmarking ONNX model...\n"
     ]
    },
    {
     "name": "stderr",
     "output_type": "stream",
     "text": [
      "100%|██████████| 100/100 [00:00<00:00, 205.30it/s]"
     ]
    },
    {
     "name": "stdout",
     "output_type": "stream",
     "text": [
      "Average latency: 4.79ms\n",
      "95th percentile latency: 5.62ms\n"
     ]
    },
    {
     "name": "stderr",
     "output_type": "stream",
     "text": [
      "\n"
     ]
    }
   ],
   "source": [
    "# Run benchmark\n",
    "print(\"Benchmarking ONNX model...\")\n",
    "latencies = benchmark_model(analyzer, test_df)"
   ]
  },
  {
   "cell_type": "code",
   "execution_count": 9,
   "id": "c04ace12",
   "metadata": {},
   "outputs": [
    {
     "name": "stdout",
     "output_type": "stream",
     "text": [
      "Model size: 54.88MB\n"
     ]
    }
   ],
   "source": [
    "# Check model size\n",
    "import os\n",
    "model_size = os.path.getsize(\"./tinybert-sentiment-onnx/model.onnx\") / (1024 * 1024)\n",
    "print(f\"Model size: {model_size:.2f}MB\")"
   ]
  },
  {
   "cell_type": "code",
   "execution_count": 15,
   "id": "ea7ced3e",
   "metadata": {},
   "outputs": [],
   "source": [
    "\n",
    "def evaluate_model(analyzer, test_dataset, n_runs=100):\n",
    "    \"\"\"\n",
    "    Comprehensive evaluation of SentimentAnalyzer\n",
    "    Args:\n",
    "        analyzer: Your SentimentAnalyzer instance\n",
    "        test_dataset: DataFrame with 'text' and 'label' columns\n",
    "        n_runs: Number of iterations for latency benchmark\n",
    "    Returns:\n",
    "        Dictionary containing all metrics\n",
    "    \"\"\"\n",
    "    # Initialize containers\n",
    "    y_true = []\n",
    "    y_pred = []\n",
    "    confidences = []\n",
    "    latencies = []\n",
    "    \n",
    "    # Warmup\n",
    "    for _ in range(5):\n",
    "        analyzer.predict(test_dataset[\"text\"].iloc[0])\n",
    "\n",
    "    # Convert numeric labels to strings if needed\n",
    "    if pd.api.types.is_numeric_dtype(test_dataset[\"label\"]):\n",
    "        label_map = {0: \"negative\", 1: \"neutral\", 2: \"positive\"}\n",
    "        test_dataset[\"label\"] = test_dataset[\"label\"].map(label_map)\n",
    "\n",
    "     # Main evaluation loop\n",
    "    for i in tqdm(range(len(test_dataset)), desc=\"Evaluating\"):\n",
    "        text = test_dataset[\"text\"].iloc[i]\n",
    "        true_label = test_dataset[\"label\"].iloc[i]\n",
    "        \n",
    "        # Time prediction\n",
    "        start = time.perf_counter()\n",
    "        result = analyzer.predict(text)\n",
    "        latency = (time.perf_counter() - start) * 1000  # ms\n",
    "        latencies.append(latency)\n",
    "        \n",
    "        # Store results (ensure lowercase comparison)\n",
    "        y_true.append(str(true_label).lower())\n",
    "        y_pred.append(result[\"sentiment\"].lower())\n",
    "        confidences.append(result[\"confidence\"])\n",
    "    \n",
    "    # Calculate metrics\n",
    "    accuracy = accuracy_score(y_true, y_pred)\n",
    "    f1 = f1_score(y_true, y_pred, average=\"weighted\")\n",
    "    cm = confusion_matrix(y_true, y_pred, labels=analyzer.labels)\n",
    "    cm_percent = (cm.astype('float') / cm.sum(axis=1)[:, np.newaxis]) * 100\n",
    "    \n",
    "    # Confidence analysis\n",
    "    correct_conf = [c for c, t, p in zip(confidences, y_true, y_pred) if t == p]\n",
    "    incorrect_conf = [c for c, t, p in zip(confidences, y_true, y_pred) if t != p]\n",
    "    \n",
    "    # Latency stats (additional runs for stability)\n",
    "    if n_runs > len(test_dataset):\n",
    "        extra_latencies = []\n",
    "        for _ in tqdm(range(n_runs - len(test_dataset)), desc=\"Benchmarking\"):\n",
    "            text = test_dataset[\"text\"].sample(1).iloc[0]\n",
    "            start = time.perf_counter()\n",
    "            analyzer.predict(text)\n",
    "            extra_latencies.append((time.perf_counter() - start) * 1000)\n",
    "        latencies.extend(extra_latencies)\n",
    "    \n",
    "    avg_latency = np.mean(latencies)\n",
    "    p95_latency = np.percentile(latencies, 95)\n",
    "    \n",
    "    return {\n",
    "        # Core metrics\n",
    "        \"accuracy\": accuracy,\n",
    "        \"f1_score\": f1,\n",
    "        \"class_metrics\": classification_report(\n",
    "            y_true, y_pred, \n",
    "            target_names=analyzer.labels,\n",
    "            output_dict=True\n",
    "        ),\n",
    "        \n",
    "        # Confusion matrices\n",
    "        \"confusion_matrix\": cm,\n",
    "        \"confusion_matrix_percent\": cm_percent,\n",
    "        \n",
    "        # Confidence analysis\n",
    "        \"avg_confidence\": np.mean(confidences),\n",
    "        \"correct_confidence\": np.mean(correct_conf) if correct_conf else 0,\n",
    "        \"incorrect_confidence\": np.mean(incorrect_conf) if incorrect_conf else 0,\n",
    "        \n",
    "        # Performance\n",
    "        \"avg_latency_ms\": avg_latency,\n",
    "        \"p95_latency_ms\": p95_latency,\n",
    "        \"throughput_rps\": 1000 / avg_latency,\n",
    "        \n",
    "        # Raw data\n",
    "        \"predictions\": list(zip(y_true, y_pred, confidences)),\n",
    "        \"latencies\": latencies\n",
    "    }"
   ]
  },
  {
   "cell_type": "code",
   "execution_count": 16,
   "id": "148b2e20",
   "metadata": {},
   "outputs": [],
   "source": [
    "def print_metrics(metrics):\n",
    "    \"\"\"Pretty print evaluation results\"\"\"\n",
    "    print(f\"\\n{' Model Evaluation Results ':=^60}\")\n",
    "    print(f\"Accuracy: {metrics['accuracy']*100:.2f}%\")\n",
    "    print(f\"F1 Score: {metrics['f1_score']:.4f}\")\n",
    "    print(f\"Avg Confidence: {metrics['avg_confidence']*100:.1f}%\")\n",
    "    print(f\"  - Correct predictions: {metrics['correct_confidence']*100:.1f}%\")\n",
    "    print(f\"  - Incorrect predictions: {metrics['incorrect_confidence']*100:.1f}%\")\n",
    "    \n",
    "    print(\"\\nLatency:\")\n",
    "    print(f\"Average: {metrics['avg_latency_ms']:.2f}ms\")\n",
    "    print(f\"95th percentile: {metrics['p95_latency_ms']:.2f}ms\")\n",
    "    print(f\"Throughput: {metrics['throughput_rps']:.1f} requests/second\")\n",
    "    \n",
    "    print(\"\\nConfusion Matrix (%):\")\n",
    "    cm = metrics['confusion_matrix_percent']\n",
    "    print(f\"{'':<10}{'Negative':<10}{'Neutral':<10}{'Positive':<10}\")\n",
    "    for i, label in enumerate([\"Negative\", \"Neutral\", \"Positive\"]):\n",
    "        print(f\"{label:<10}{cm[i][0]:<10.1f}{cm[i][1]:<10.1f}{cm[i][2]:<10.1f}\")\n",
    "    \n",
    "    print(\"\\nClassification Report:\")\n",
    "    print(classification_report(\n",
    "        [p[0] for p in metrics['predictions']],\n",
    "        [p[1] for p in metrics['predictions']],\n",
    "        target_names=[\"negative\", \"neutral\", \"positive\"]\n",
    "    ))"
   ]
  },
  {
   "cell_type": "code",
   "execution_count": 17,
   "id": "12a490e9",
   "metadata": {},
   "outputs": [
    {
     "name": "stderr",
     "output_type": "stream",
     "text": [
      "Evaluating: 100%|██████████| 5834/5834 [00:25<00:00, 232.96it/s]\n"
     ]
    },
    {
     "name": "stdout",
     "output_type": "stream",
     "text": [
      "\n",
      "================= Model Evaluation Results =================\n",
      "Accuracy: 89.58%\n",
      "F1 Score: 0.8962\n",
      "Avg Confidence: 92.5%\n",
      "  - Correct predictions: 94.2%\n",
      "  - Incorrect predictions: 77.9%\n",
      "\n",
      "Latency:\n",
      "Average: 4.21ms\n",
      "95th percentile: 5.64ms\n",
      "Throughput: 237.5 requests/second\n",
      "\n",
      "Confusion Matrix (%):\n",
      "          Negative  Neutral   Positive  \n",
      "Negative  83.8      12.6      3.7       \n",
      "Neutral   2.8       91.4      5.8       \n",
      "Positive  2.7       9.3       88.0      \n",
      "\n",
      "Classification Report:\n",
      "              precision    recall  f1-score   support\n",
      "\n",
      "    negative       0.82      0.84      0.83       764\n",
      "     neutral       0.93      0.91      0.92      3589\n",
      "    positive       0.85      0.88      0.86      1481\n",
      "\n",
      "    accuracy                           0.90      5834\n",
      "   macro avg       0.87      0.88      0.87      5834\n",
      "weighted avg       0.90      0.90      0.90      5834\n",
      "\n"
     ]
    }
   ],
   "source": [
    "metrics = evaluate_model(analyzer, test_df, n_runs=100)\n",
    "print_metrics(metrics)"
   ]
  }
 ],
 "metadata": {
  "kernelspec": {
   "display_name": "python11",
   "language": "python",
   "name": "python3"
  },
  "language_info": {
   "codemirror_mode": {
    "name": "ipython",
    "version": 3
   },
   "file_extension": ".py",
   "mimetype": "text/x-python",
   "name": "python",
   "nbconvert_exporter": "python",
   "pygments_lexer": "ipython3",
   "version": "3.11.13"
  }
 },
 "nbformat": 4,
 "nbformat_minor": 5
}
